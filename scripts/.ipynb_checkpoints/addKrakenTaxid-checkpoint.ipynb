{
 "cells": [
  {
   "cell_type": "code",
   "execution_count": 40,
   "id": "formal-particular",
   "metadata": {},
   "outputs": [],
   "source": [
    "import pandas as pd\n",
    "from Bio import SeqIO\n",
    "import sys\n",
    "import gzip"
   ]
  },
  {
   "cell_type": "code",
   "execution_count": 41,
   "id": "timely-dublin",
   "metadata": {},
   "outputs": [],
   "source": [
    "data = pd.read_csv('../data/mmetsp_ncbi_genome_info.csv')\n",
    "data.set_index(\"genome_filename\", inplace=True)"
   ]
  },
  {
   "cell_type": "code",
   "execution_count": 34,
   "id": "compound-archives",
   "metadata": {},
   "outputs": [],
   "source": [
    "genomeFile = 'GCA_001652855.1_Pro_Min_D-127.v1.0_genomic.fna.gz'"
   ]
  },
  {
   "cell_type": "code",
   "execution_count": 48,
   "id": "baking-artwork",
   "metadata": {},
   "outputs": [
    {
     "data": {
      "text/plain": [
       "'39449'"
      ]
     },
     "execution_count": 48,
     "metadata": {},
     "output_type": "execute_result"
    }
   ],
   "source": [
    "\n",
    "str(data.loc[genomeFile]['taxon_id'])"
   ]
  },
  {
   "cell_type": "code",
   "execution_count": null,
   "id": "ancient-rendering",
   "metadata": {},
   "outputs": [],
   "source": [
    "with gzip.open('../data/genomes/GCA_001652855.1_Pro_Min_D-127.v1.0_genomic.fna.gz', \"rt\") as handle:\n",
    "    records = SeqIO.parse(handle, \"fasta\"):"
   ]
  },
  {
   "cell_type": "code",
   "execution_count": null,
   "id": "weird-bottom",
   "metadata": {},
   "outputs": [],
   "source": [
    "with gzip.open(original_file, 'rt') as original, open(appended_file, 'w') as appended:\n",
    "    records = SeqIO.parse(original_file, 'fasta')"
   ]
  },
  {
   "cell_type": "code",
   "execution_count": 51,
   "id": "medical-ministry",
   "metadata": {},
   "outputs": [],
   "source": [
    "original_file = '../data/genomes/' + genomeFile\n",
    "taxId = str(data.loc[genomeFile]['taxon_id'])\n",
    "\n",
    "appended_file = '../data/taxIdAppendedGenomes/' + 'taxIdAppended_' + genomeFile\n",
    "\n",
    "count = 0\n",
    "\n",
    "with gzip.open(original_file, 'rt') as original, gzip.open(appended_file, 'wt') as appended:\n",
    "    records = SeqIO.parse(original, 'fasta')\n",
    "    \n",
    "    prefix = '|kraken:taxid|' + taxId\n",
    "    \n",
    "    for record in records:          \n",
    "        record.id = record.id + prefix\n",
    "        SeqIO.write(record, appended, 'fasta')\n",
    "        count += 1\n",
    "    \n"
   ]
  },
  {
   "cell_type": "code",
   "execution_count": null,
   "id": "proof-relaxation",
   "metadata": {},
   "outputs": [],
   "source": []
  }
 ],
 "metadata": {
  "kernelspec": {
   "display_name": "Python 3",
   "language": "python",
   "name": "python3"
  },
  "language_info": {
   "codemirror_mode": {
    "name": "ipython",
    "version": 3
   },
   "file_extension": ".py",
   "mimetype": "text/x-python",
   "name": "python",
   "nbconvert_exporter": "python",
   "pygments_lexer": "ipython3",
   "version": "3.8.5"
  }
 },
 "nbformat": 4,
 "nbformat_minor": 5
}
