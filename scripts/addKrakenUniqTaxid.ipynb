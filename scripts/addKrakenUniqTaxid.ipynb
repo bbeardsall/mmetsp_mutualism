{
 "cells": [
  {
   "cell_type": "code",
   "execution_count": 75,
   "id": "formal-particular",
   "metadata": {},
   "outputs": [],
   "source": [
    "import pandas as pd\n",
    "from Bio import SeqIO\n",
    "import sys\n",
    "import gzip\n",
    "import math"
   ]
  },
  {
   "cell_type": "code",
   "execution_count": 144,
   "id": "timely-dublin",
   "metadata": {},
   "outputs": [],
   "source": [
    "data = pd.read_csv('../data/mmetsp_ncbi_genome_info.csv')\n",
    "data.set_index(\"genome_filename\", inplace=True)"
   ]
  },
  {
   "cell_type": "code",
   "execution_count": 145,
   "metadata": {},
   "outputs": [],
   "source": [
    "data['full_organism_name'] = data['organism_name'] + data['infraspecific_name'].replace(\"strain=\", \" \", regex=True).fillna('')"
   ]
  },
  {
   "cell_type": "code",
   "execution_count": 146,
   "metadata": {},
   "outputs": [
    {
     "output_type": "execute_result",
     "data": {
      "text/plain": [
       "array(['sample_id', 'sample_name_main', 'GenBank BioSample', 'NCBI SRA',\n",
       "       'project_id', 'source_mat_id', 'sample_name', 'latitude',\n",
       "       'longitude', 'habitat_name', 'taxon_id', 'strain', 'genus',\n",
       "       'species', 'family', 'depth', 'sample_collection_site', 'class',\n",
       "       'phylum', 'assembly_accession_number', 'collection_date',\n",
       "       'date_of_experiment', 'day_portion_of_day_night_cycle_in_hours',\n",
       "       'envo_term_for_habitat_primary_term', 'growth_medium',\n",
       "       'investigation_type', 'light', 'other_collection_site_info',\n",
       "       'sample_material', 'experimental_salinity',\n",
       "       'experimental_temperature', 'fastq_file',\n",
       "       'night_portion_of_day_night_cycle_in_hours', 'primary_citation',\n",
       "       'longhurst_province', 'ph', 'clonal',\n",
       "       'envo_term_for_habitat_secondary_term', 'habitat_description',\n",
       "       'prey_organism_if_applicable', 'environmental_salinity',\n",
       "       'other_experimental_metadata_available', 'country', 'axenic',\n",
       "       'modifications_to_growth_medium', 'additional_citations',\n",
       "       'collection_time', 'other_environmental_metadata_available',\n",
       "       'environmental_temperature', 'phosphate', 'nitrate', 'iron',\n",
       "       'trace_elements', 'pressure', 'carbon_dioxide', 'ammonium',\n",
       "       'pcr_amp', 'silicate', 'sample_type', 'sample_description',\n",
       "       'collection_start_time', 'collection_stop_time', 'site_name',\n",
       "       'site_description', 'library_acc', 'sequencing_method', 'dna_type',\n",
       "       'comments', 'order', 'superkingdom', 'combined_assembly_name',\n",
       "       'external_sample_id', 'habitat', 'principle_investigator',\n",
       "       'sample_volume', 'volume_unit', 'filter_min', 'filter_max',\n",
       "       'filter_fraction_maximum', 'filter_fraction_minimum',\n",
       "       'volume_filtered', 'urea', 'chlorophyll', 'elevation',\n",
       "       'dissolved_oxygen', 'particulate_organic_carbon', 'region',\n",
       "       'assembly_accession', 'bioproject', 'biosample', 'wgs_master',\n",
       "       'refseq_category', 'species_taxid', 'organism_name',\n",
       "       'infraspecific_name', 'infraspecific_name2',\n",
       "       'isolateversion_status', 'assembly_level', 'release_type',\n",
       "       'genome_rep', 'seq_rel_date', 'asm_name', 'submitter',\n",
       "       'gbrs_paired_asm', 'paired_asm_comp', 'ftp_path',\n",
       "       'excluded_from_refseq', 'relation_to_type_material',\n",
       "       'genome_ftp_path', 'full_organism_name'], dtype=object)"
      ]
     },
     "metadata": {},
     "execution_count": 146
    }
   ],
   "source": [
    "data.columns.values"
   ]
  },
  {
   "cell_type": "code",
   "execution_count": 161,
   "metadata": {},
   "outputs": [],
   "source": [
    "genomeName = \"GCA_000002455.1_ASM245v1_genomic\"\n",
    "genomeFile = genomeName + \".fna.gz\"\n",
    "maskedFile = '../data/masked_genomes/GCA_000002455.1_ASM245v1_genomic-dustmasked.fna'\n",
    "outputFile = '../data/genomeMaps/' + genomeName + '.fna.map'\n",
    "\n",
    "seqIds = []\n",
    "\n",
    "with open(maskedFile, 'rt') as genome:\n",
    "    records = SeqIO.parse(genome, 'fasta')\n",
    "\n",
    "    for record in records:\n",
    "        seqIds.append(record.id)\n",
    "\n",
    "outData = pd.DataFrame(list(\n",
    "    zip(seqIds, [data.loc[genomeFile]['taxon_id']]*len(seqIds), [data.loc[genomeFile]['full_organism_name']]*len(seqIds))\n",
    "    ),\n",
    "    columns=['seq', 'taxid', 'name'])\n",
    "\n",
    "outData.to_csv(outputFile, sep = '\\t', header=False, index=False)\n",
    "\n"
   ]
  },
  {
   "cell_type": "code",
   "execution_count": 148,
   "metadata": {},
   "outputs": [
    {
     "output_type": "execute_result",
     "data": {
      "text/plain": [
       "'GCA_000002455.1_ASM245v1_genomic.fna.gz'"
      ]
     },
     "metadata": {},
     "execution_count": 148
    }
   ],
   "source": [
    "genomeFile"
   ]
  },
  {
   "cell_type": "code",
   "execution_count": 157,
   "metadata": {},
   "outputs": [
    {
     "output_type": "execute_result",
     "data": {
      "text/plain": [
       "[227086, 227086, 227086]"
      ]
     },
     "metadata": {},
     "execution_count": 157
    }
   ],
   "source": [
    "[data.loc[genomeFile]['taxon_id']]*len(seqIds)"
   ]
  },
  {
   "cell_type": "code",
   "execution_count": 133,
   "metadata": {},
   "outputs": [
    {
     "output_type": "execute_result",
     "data": {
      "text/plain": [
       "['DQ158856.1', 'DQ158857.1', 'DQ158858.1']"
      ]
     },
     "metadata": {},
     "execution_count": 133
    }
   ],
   "source": [
    "seqIds"
   ]
  },
  {
   "cell_type": "code",
   "execution_count": 160,
   "metadata": {},
   "outputs": [
    {
     "output_type": "execute_result",
     "data": {
      "text/plain": [
       "          seq   taxid                 name\n",
       "0  DQ158856.1  227086  Bigelowiella natans\n",
       "1  DQ158857.1  227086  Bigelowiella natans\n",
       "2  DQ158858.1  227086  Bigelowiella natans"
      ],
      "text/html": "<div>\n<style scoped>\n    .dataframe tbody tr th:only-of-type {\n        vertical-align: middle;\n    }\n\n    .dataframe tbody tr th {\n        vertical-align: top;\n    }\n\n    .dataframe thead th {\n        text-align: right;\n    }\n</style>\n<table border=\"1\" class=\"dataframe\">\n  <thead>\n    <tr style=\"text-align: right;\">\n      <th></th>\n      <th>seq</th>\n      <th>taxid</th>\n      <th>name</th>\n    </tr>\n  </thead>\n  <tbody>\n    <tr>\n      <th>0</th>\n      <td>DQ158856.1</td>\n      <td>227086</td>\n      <td>Bigelowiella natans</td>\n    </tr>\n    <tr>\n      <th>1</th>\n      <td>DQ158857.1</td>\n      <td>227086</td>\n      <td>Bigelowiella natans</td>\n    </tr>\n    <tr>\n      <th>2</th>\n      <td>DQ158858.1</td>\n      <td>227086</td>\n      <td>Bigelowiella natans</td>\n    </tr>\n  </tbody>\n</table>\n</div>"
     },
     "metadata": {},
     "execution_count": 160
    }
   ],
   "source": []
  },
  {
   "cell_type": "code",
   "execution_count": 121,
   "metadata": {},
   "outputs": [
    {
     "output_type": "execute_result",
     "data": {
      "text/plain": [
       "'../data/masked_genomes/GCA_000002455.1_ASM245v1_genomic-dustmasked.fna'"
      ]
     },
     "metadata": {},
     "execution_count": 121
    }
   ],
   "source": [
    "genomeFile"
   ]
  },
  {
   "cell_type": "code",
   "execution_count": null,
   "id": "ancient-rendering",
   "metadata": {},
   "outputs": [],
   "source": [
    "with gzip.open('../data/genomes/GCA_001652855.1_Pro_Min_D-127.v1.0_genomic.fna.gz', \"rt\") as handle:\n",
    "    records = SeqIO.parse(handle, \"fasta\"):"
   ]
  },
  {
   "cell_type": "code",
   "execution_count": 4,
   "id": "weird-bottom",
   "metadata": {},
   "outputs": [
    {
     "output_type": "error",
     "ename": "NameError",
     "evalue": "name 'original_file' is not defined",
     "traceback": [
      "\u001b[0;31m---------------------------------------------------------------------------\u001b[0m",
      "\u001b[0;31mNameError\u001b[0m                                 Traceback (most recent call last)",
      "\u001b[0;32m<ipython-input-4-58d86e6742dc>\u001b[0m in \u001b[0;36m<module>\u001b[0;34m\u001b[0m\n\u001b[0;32m----> 1\u001b[0;31m \u001b[0;32mwith\u001b[0m \u001b[0mgzip\u001b[0m\u001b[0;34m.\u001b[0m\u001b[0mopen\u001b[0m\u001b[0;34m(\u001b[0m\u001b[0moriginal_file\u001b[0m\u001b[0;34m,\u001b[0m \u001b[0;34m'rt'\u001b[0m\u001b[0;34m)\u001b[0m \u001b[0;32mas\u001b[0m \u001b[0moriginal\u001b[0m\u001b[0;34m,\u001b[0m \u001b[0mopen\u001b[0m\u001b[0;34m(\u001b[0m\u001b[0mappended_file\u001b[0m\u001b[0;34m,\u001b[0m \u001b[0;34m'w'\u001b[0m\u001b[0;34m)\u001b[0m \u001b[0;32mas\u001b[0m \u001b[0mappended\u001b[0m\u001b[0;34m:\u001b[0m\u001b[0;34m\u001b[0m\u001b[0;34m\u001b[0m\u001b[0m\n\u001b[0m\u001b[1;32m      2\u001b[0m     \u001b[0mrecords\u001b[0m \u001b[0;34m=\u001b[0m \u001b[0mSeqIO\u001b[0m\u001b[0;34m.\u001b[0m\u001b[0mparse\u001b[0m\u001b[0;34m(\u001b[0m\u001b[0moriginal_file\u001b[0m\u001b[0;34m,\u001b[0m \u001b[0;34m'fasta'\u001b[0m\u001b[0;34m)\u001b[0m\u001b[0;34m\u001b[0m\u001b[0;34m\u001b[0m\u001b[0m\n",
      "\u001b[0;31mNameError\u001b[0m: name 'original_file' is not defined"
     ]
    }
   ],
   "source": [
    "with gzip.open(original_file, 'rt') as original, open(appended_file, 'w') as appended:\n",
    "    records = SeqIO.parse(original_file, 'fasta')"
   ]
  },
  {
   "cell_type": "code",
   "execution_count": 51,
   "id": "medical-ministry",
   "metadata": {},
   "outputs": [],
   "source": [
    "original_file = '../data/genomes/' + genomeFile\n",
    "taxId = str(data.loc[genomeFile]['taxon_id'])\n",
    "\n",
    "appended_file = '../data/taxIdAppendedGenomes/' + 'taxIdAppended_' + genomeFile\n",
    "\n",
    "count = 0\n",
    "\n",
    "with gzip.open(original_file, 'rt') as original, gzip.open(appended_file, 'wt') as appended:\n",
    "    records = SeqIO.parse(original, 'fasta')\n",
    "    \n",
    "    prefix = '|kraken:taxid|' + taxId\n",
    "    \n",
    "    for record in records:          \n",
    "        record.id = record.id + prefix\n",
    "        SeqIO.write(record, appended, 'fasta')\n",
    "        count += 1\n",
    "    \n"
   ]
  },
  {
   "cell_type": "code",
   "execution_count": null,
   "id": "proof-relaxation",
   "metadata": {},
   "outputs": [],
   "source": []
  }
 ],
 "metadata": {
  "kernelspec": {
   "name": "python385jvsc74a57bd02d3a06a62f97e77c5e50203df821ceb45864068fde408738cea1e518df0d2a04",
   "display_name": "Python 3.8.5 64-bit ('base': conda)"
  },
  "language_info": {
   "codemirror_mode": {
    "name": "ipython",
    "version": 3
   },
   "file_extension": ".py",
   "mimetype": "text/x-python",
   "name": "python",
   "nbconvert_exporter": "python",
   "pygments_lexer": "ipython3",
   "version": "3.8.5"
  }
 },
 "nbformat": 4,
 "nbformat_minor": 5
}