{
 "cells": [
  {
   "cell_type": "code",
   "execution_count": 1,
   "id": "formal-particular",
   "metadata": {},
   "outputs": [],
   "source": [
    "import pandas as pd\n",
    "from Bio import SeqIO\n",
    "import sys\n",
    "import gzip"
   ]
  },
  {
   "cell_type": "code",
   "execution_count": 2,
   "id": "timely-dublin",
   "metadata": {},
   "outputs": [],
   "source": [
    "data = pd.read_csv('../data/mmetsp_ncbi_genome_info.csv')\n",
    "data.set_index(\"genome_filename\", inplace=True)"
   ]
  },
  {
   "cell_type": "code",
   "execution_count": 3,
   "id": "compound-archives",
   "metadata": {},
   "outputs": [],
   "source": [
    "genomeFile = 'GCA_001652855.1_Pro_Min_D-127.v1.0_genomic.fna.gz'"
   ]
  },
  {
   "cell_type": "code",
   "execution_count": 10,
   "metadata": {},
   "outputs": [
    {
     "output_type": "execute_result",
     "data": {
      "text/plain": [
       "                                                   sample_id sample_name_main  \\\n",
       "genome_filename                                                                 \n",
       "GCA_001652855.1_Pro_Min_D-127.v1.0_genomic.fna.gz       2475       MMETSP0053   \n",
       "GCA_001880345.1_ASM188034v1_genomic.fna.gz              2478       MMETSP0205   \n",
       "GCA_015473125.1_Ppro_1.0_genomic.fna.gz                 2502       MMETSP1459   \n",
       "GCA_009767595.1_ASM976759v1_genomic.fna.gz              2514     MMETSP0133_2   \n",
       "GCA_000018645.1_ASM1864v1_genomic.fna.gz                1682       MMETSP0043   \n",
       "\n",
       "                                                   GenBank BioSample  \\\n",
       "genome_filename                                                        \n",
       "GCA_001652855.1_Pro_Min_D-127.v1.0_genomic.fna.gz            2740395   \n",
       "GCA_001880345.1_ASM188034v1_genomic.fna.gz                   2740072   \n",
       "GCA_015473125.1_Ppro_1.0_genomic.fna.gz                      2740207   \n",
       "GCA_009767595.1_ASM976759v1_genomic.fna.gz                   2740420   \n",
       "GCA_000018645.1_ASM1864v1_genomic.fna.gz                     2740390   \n",
       "\n",
       "                                                    NCBI SRA  project_id  \\\n",
       "genome_filename                                                            \n",
       "GCA_001652855.1_Pro_Min_D-127.v1.0_genomic.fna.gz  SRS618900         104   \n",
       "GCA_001880345.1_ASM188034v1_genomic.fna.gz         SRS618899         104   \n",
       "GCA_015473125.1_Ppro_1.0_genomic.fna.gz            SRS621597         104   \n",
       "GCA_009767595.1_ASM976759v1_genomic.fna.gz         SRS621397         104   \n",
       "GCA_000018645.1_ASM1864v1_genomic.fna.gz           SRS618986         104   \n",
       "\n",
       "                                                                                       source_mat_id  \\\n",
       "genome_filename                                                                                        \n",
       "GCA_001652855.1_Pro_Min_D-127.v1.0_genomic.fna.gz                  (MMETSP0053) Prorocentrum minimum   \n",
       "GCA_001880345.1_ASM188034v1_genomic.fna.gz         (MMETSP0205) Euplotes focardii - seawater and ...   \n",
       "GCA_015473125.1_Ppro_1.0_genomic.fna.gz               (MMETSP1459) Pycnococcus provasolii - Seawater   \n",
       "GCA_009767595.1_ASM976759v1_genomic.fna.gz                       (MMETSP0133) Symbiodinium kawagutii   \n",
       "GCA_000018645.1_ASM1864v1_genomic.fna.gz           (MMETSP0043) Hemiselmis andersenii - net tow,2...   \n",
       "\n",
       "                                                    sample_name  latitude  \\\n",
       "genome_filename                                                             \n",
       "GCA_001652855.1_Pro_Min_D-127.v1.0_genomic.fna.gz    MMETSP0053   40.6600   \n",
       "GCA_001880345.1_ASM188034v1_genomic.fna.gz           MMETSP0205       NaN   \n",
       "GCA_015473125.1_Ppro_1.0_genomic.fna.gz              MMETSP1459  -33.8667   \n",
       "GCA_009767595.1_ASM976759v1_genomic.fna.gz         MMETSP0133_2   21.2500   \n",
       "GCA_000018645.1_ASM1864v1_genomic.fna.gz             MMETSP0043   23.0000   \n",
       "\n",
       "                                                   longitude    habitat_name  \\\n",
       "genome_filename                                                                \n",
       "GCA_001652855.1_Pro_Min_D-127.v1.0_genomic.fna.gz   -73.2500             NaN   \n",
       "GCA_001880345.1_ASM188034v1_genomic.fna.gz               NaN  marine habitat   \n",
       "GCA_015473125.1_Ppro_1.0_genomic.fna.gz             -73.3333  marine habitat   \n",
       "GCA_009767595.1_ASM976759v1_genomic.fna.gz          158.0000  marine habitat   \n",
       "GCA_000018645.1_ASM1864v1_genomic.fna.gz            -75.0000  marine habitat   \n",
       "\n",
       "                                                   ...  genome_rep  \\\n",
       "genome_filename                                    ...               \n",
       "GCA_001652855.1_Pro_Min_D-127.v1.0_genomic.fna.gz  ...        Full   \n",
       "GCA_001880345.1_ASM188034v1_genomic.fna.gz         ...        Full   \n",
       "GCA_015473125.1_Ppro_1.0_genomic.fna.gz            ...        Full   \n",
       "GCA_009767595.1_ASM976759v1_genomic.fna.gz         ...        Full   \n",
       "GCA_000018645.1_ASM1864v1_genomic.fna.gz           ...     Partial   \n",
       "\n",
       "                                                  seq_rel_date  \\\n",
       "genome_filename                                                  \n",
       "GCA_001652855.1_Pro_Min_D-127.v1.0_genomic.fna.gz   2016-05-26   \n",
       "GCA_001880345.1_ASM188034v1_genomic.fna.gz          2016-11-17   \n",
       "GCA_015473125.1_Ppro_1.0_genomic.fna.gz             2020-11-11   \n",
       "GCA_009767595.1_ASM976759v1_genomic.fna.gz          2019-12-18   \n",
       "GCA_000018645.1_ASM1864v1_genomic.fna.gz            2007-11-09   \n",
       "\n",
       "                                                             asm_name  \\\n",
       "genome_filename                                                         \n",
       "GCA_001652855.1_Pro_Min_D-127.v1.0_genomic.fna.gz  Pro_Min_D-127.v1.0   \n",
       "GCA_001880345.1_ASM188034v1_genomic.fna.gz                ASM188034v1   \n",
       "GCA_015473125.1_Ppro_1.0_genomic.fna.gz                      Ppro_1.0   \n",
       "GCA_009767595.1_ASM976759v1_genomic.fna.gz                ASM976759v1   \n",
       "GCA_000018645.1_ASM1864v1_genomic.fna.gz                    ASM1864v1   \n",
       "\n",
       "                                                                                      submitter  \\\n",
       "genome_filename                                                                                   \n",
       "GCA_001652855.1_Pro_Min_D-127.v1.0_genomic.fna.gz                          Sangmyung University   \n",
       "GCA_001880345.1_ASM188034v1_genomic.fna.gz                         Brigham and Women's Hospital   \n",
       "GCA_015473125.1_Ppro_1.0_genomic.fna.gz            National Institute for Environmental Studies   \n",
       "GCA_009767595.1_ASM976759v1_genomic.fna.gz                                    Xiamen university   \n",
       "GCA_000018645.1_ASM1864v1_genomic.fna.gz                           Dalhousie University, Canada   \n",
       "\n",
       "                                                   gbrs_paired_asm  \\\n",
       "genome_filename                                                      \n",
       "GCA_001652855.1_Pro_Min_D-127.v1.0_genomic.fna.gz               na   \n",
       "GCA_001880345.1_ASM188034v1_genomic.fna.gz                      na   \n",
       "GCA_015473125.1_Ppro_1.0_genomic.fna.gz                         na   \n",
       "GCA_009767595.1_ASM976759v1_genomic.fna.gz                      na   \n",
       "GCA_000018645.1_ASM1864v1_genomic.fna.gz           GCF_000018645.1   \n",
       "\n",
       "                                                   paired_asm_comp  \\\n",
       "genome_filename                                                      \n",
       "GCA_001652855.1_Pro_Min_D-127.v1.0_genomic.fna.gz               na   \n",
       "GCA_001880345.1_ASM188034v1_genomic.fna.gz                      na   \n",
       "GCA_015473125.1_Ppro_1.0_genomic.fna.gz                         na   \n",
       "GCA_009767595.1_ASM976759v1_genomic.fna.gz                      na   \n",
       "GCA_000018645.1_ASM1864v1_genomic.fna.gz                 different   \n",
       "\n",
       "                                                                                            ftp_path  \\\n",
       "genome_filename                                                                                        \n",
       "GCA_001652855.1_Pro_Min_D-127.v1.0_genomic.fna.gz  ftp://ftp.ncbi.nlm.nih.gov/genomes/all/GCA/001...   \n",
       "GCA_001880345.1_ASM188034v1_genomic.fna.gz         ftp://ftp.ncbi.nlm.nih.gov/genomes/all/GCA/001...   \n",
       "GCA_015473125.1_Ppro_1.0_genomic.fna.gz            ftp://ftp.ncbi.nlm.nih.gov/genomes/all/GCA/015...   \n",
       "GCA_009767595.1_ASM976759v1_genomic.fna.gz         ftp://ftp.ncbi.nlm.nih.gov/genomes/all/GCA/009...   \n",
       "GCA_000018645.1_ASM1864v1_genomic.fna.gz           ftp://ftp.ncbi.nlm.nih.gov/genomes/all/GCA/000...   \n",
       "\n",
       "                                                  excluded_from_refseq  \\\n",
       "genome_filename                                                          \n",
       "GCA_001652855.1_Pro_Min_D-127.v1.0_genomic.fna.gz                  NaN   \n",
       "GCA_001880345.1_ASM188034v1_genomic.fna.gz                         NaN   \n",
       "GCA_015473125.1_Ppro_1.0_genomic.fna.gz                            NaN   \n",
       "GCA_009767595.1_ASM976759v1_genomic.fna.gz                         NaN   \n",
       "GCA_000018645.1_ASM1864v1_genomic.fna.gz                       partial   \n",
       "\n",
       "                                                  relation_to_type_material  \\\n",
       "genome_filename                                                               \n",
       "GCA_001652855.1_Pro_Min_D-127.v1.0_genomic.fna.gz                       NaN   \n",
       "GCA_001880345.1_ASM188034v1_genomic.fna.gz                              NaN   \n",
       "GCA_015473125.1_Ppro_1.0_genomic.fna.gz                                 NaN   \n",
       "GCA_009767595.1_ASM976759v1_genomic.fna.gz                              NaN   \n",
       "GCA_000018645.1_ASM1864v1_genomic.fna.gz                                NaN   \n",
       "\n",
       "                                                                                     genome_ftp_path  \n",
       "genome_filename                                                                                       \n",
       "GCA_001652855.1_Pro_Min_D-127.v1.0_genomic.fna.gz  ftp://ftp.ncbi.nlm.nih.gov/genomes/all/GCA/001...  \n",
       "GCA_001880345.1_ASM188034v1_genomic.fna.gz         ftp://ftp.ncbi.nlm.nih.gov/genomes/all/GCA/001...  \n",
       "GCA_015473125.1_Ppro_1.0_genomic.fna.gz            ftp://ftp.ncbi.nlm.nih.gov/genomes/all/GCA/015...  \n",
       "GCA_009767595.1_ASM976759v1_genomic.fna.gz         ftp://ftp.ncbi.nlm.nih.gov/genomes/all/GCA/009...  \n",
       "GCA_000018645.1_ASM1864v1_genomic.fna.gz           ftp://ftp.ncbi.nlm.nih.gov/genomes/all/GCA/000...  \n",
       "\n",
       "[5 rows x 109 columns]"
      ],
      "text/html": "<div>\n<style scoped>\n    .dataframe tbody tr th:only-of-type {\n        vertical-align: middle;\n    }\n\n    .dataframe tbody tr th {\n        vertical-align: top;\n    }\n\n    .dataframe thead th {\n        text-align: right;\n    }\n</style>\n<table border=\"1\" class=\"dataframe\">\n  <thead>\n    <tr style=\"text-align: right;\">\n      <th></th>\n      <th>sample_id</th>\n      <th>sample_name_main</th>\n      <th>GenBank BioSample</th>\n      <th>NCBI SRA</th>\n      <th>project_id</th>\n      <th>source_mat_id</th>\n      <th>sample_name</th>\n      <th>latitude</th>\n      <th>longitude</th>\n      <th>habitat_name</th>\n      <th>...</th>\n      <th>genome_rep</th>\n      <th>seq_rel_date</th>\n      <th>asm_name</th>\n      <th>submitter</th>\n      <th>gbrs_paired_asm</th>\n      <th>paired_asm_comp</th>\n      <th>ftp_path</th>\n      <th>excluded_from_refseq</th>\n      <th>relation_to_type_material</th>\n      <th>genome_ftp_path</th>\n    </tr>\n    <tr>\n      <th>genome_filename</th>\n      <th></th>\n      <th></th>\n      <th></th>\n      <th></th>\n      <th></th>\n      <th></th>\n      <th></th>\n      <th></th>\n      <th></th>\n      <th></th>\n      <th></th>\n      <th></th>\n      <th></th>\n      <th></th>\n      <th></th>\n      <th></th>\n      <th></th>\n      <th></th>\n      <th></th>\n      <th></th>\n      <th></th>\n    </tr>\n  </thead>\n  <tbody>\n    <tr>\n      <th>GCA_001652855.1_Pro_Min_D-127.v1.0_genomic.fna.gz</th>\n      <td>2475</td>\n      <td>MMETSP0053</td>\n      <td>2740395</td>\n      <td>SRS618900</td>\n      <td>104</td>\n      <td>(MMETSP0053) Prorocentrum minimum</td>\n      <td>MMETSP0053</td>\n      <td>40.6600</td>\n      <td>-73.2500</td>\n      <td>NaN</td>\n      <td>...</td>\n      <td>Full</td>\n      <td>2016-05-26</td>\n      <td>Pro_Min_D-127.v1.0</td>\n      <td>Sangmyung University</td>\n      <td>na</td>\n      <td>na</td>\n      <td>ftp://ftp.ncbi.nlm.nih.gov/genomes/all/GCA/001...</td>\n      <td>NaN</td>\n      <td>NaN</td>\n      <td>ftp://ftp.ncbi.nlm.nih.gov/genomes/all/GCA/001...</td>\n    </tr>\n    <tr>\n      <th>GCA_001880345.1_ASM188034v1_genomic.fna.gz</th>\n      <td>2478</td>\n      <td>MMETSP0205</td>\n      <td>2740072</td>\n      <td>SRS618899</td>\n      <td>104</td>\n      <td>(MMETSP0205) Euplotes focardii - seawater and ...</td>\n      <td>MMETSP0205</td>\n      <td>NaN</td>\n      <td>NaN</td>\n      <td>marine habitat</td>\n      <td>...</td>\n      <td>Full</td>\n      <td>2016-11-17</td>\n      <td>ASM188034v1</td>\n      <td>Brigham and Women's Hospital</td>\n      <td>na</td>\n      <td>na</td>\n      <td>ftp://ftp.ncbi.nlm.nih.gov/genomes/all/GCA/001...</td>\n      <td>NaN</td>\n      <td>NaN</td>\n      <td>ftp://ftp.ncbi.nlm.nih.gov/genomes/all/GCA/001...</td>\n    </tr>\n    <tr>\n      <th>GCA_015473125.1_Ppro_1.0_genomic.fna.gz</th>\n      <td>2502</td>\n      <td>MMETSP1459</td>\n      <td>2740207</td>\n      <td>SRS621597</td>\n      <td>104</td>\n      <td>(MMETSP1459) Pycnococcus provasolii - Seawater</td>\n      <td>MMETSP1459</td>\n      <td>-33.8667</td>\n      <td>-73.3333</td>\n      <td>marine habitat</td>\n      <td>...</td>\n      <td>Full</td>\n      <td>2020-11-11</td>\n      <td>Ppro_1.0</td>\n      <td>National Institute for Environmental Studies</td>\n      <td>na</td>\n      <td>na</td>\n      <td>ftp://ftp.ncbi.nlm.nih.gov/genomes/all/GCA/015...</td>\n      <td>NaN</td>\n      <td>NaN</td>\n      <td>ftp://ftp.ncbi.nlm.nih.gov/genomes/all/GCA/015...</td>\n    </tr>\n    <tr>\n      <th>GCA_009767595.1_ASM976759v1_genomic.fna.gz</th>\n      <td>2514</td>\n      <td>MMETSP0133_2</td>\n      <td>2740420</td>\n      <td>SRS621397</td>\n      <td>104</td>\n      <td>(MMETSP0133) Symbiodinium kawagutii</td>\n      <td>MMETSP0133_2</td>\n      <td>21.2500</td>\n      <td>158.0000</td>\n      <td>marine habitat</td>\n      <td>...</td>\n      <td>Full</td>\n      <td>2019-12-18</td>\n      <td>ASM976759v1</td>\n      <td>Xiamen university</td>\n      <td>na</td>\n      <td>na</td>\n      <td>ftp://ftp.ncbi.nlm.nih.gov/genomes/all/GCA/009...</td>\n      <td>NaN</td>\n      <td>NaN</td>\n      <td>ftp://ftp.ncbi.nlm.nih.gov/genomes/all/GCA/009...</td>\n    </tr>\n    <tr>\n      <th>GCA_000018645.1_ASM1864v1_genomic.fna.gz</th>\n      <td>1682</td>\n      <td>MMETSP0043</td>\n      <td>2740390</td>\n      <td>SRS618986</td>\n      <td>104</td>\n      <td>(MMETSP0043) Hemiselmis andersenii - net tow,2...</td>\n      <td>MMETSP0043</td>\n      <td>23.0000</td>\n      <td>-75.0000</td>\n      <td>marine habitat</td>\n      <td>...</td>\n      <td>Partial</td>\n      <td>2007-11-09</td>\n      <td>ASM1864v1</td>\n      <td>Dalhousie University, Canada</td>\n      <td>GCF_000018645.1</td>\n      <td>different</td>\n      <td>ftp://ftp.ncbi.nlm.nih.gov/genomes/all/GCA/000...</td>\n      <td>partial</td>\n      <td>NaN</td>\n      <td>ftp://ftp.ncbi.nlm.nih.gov/genomes/all/GCA/000...</td>\n    </tr>\n  </tbody>\n</table>\n<p>5 rows × 109 columns</p>\n</div>"
     },
     "metadata": {},
     "execution_count": 10
    }
   ],
   "source": [
    "data.head()"
   ]
  },
  {
   "cell_type": "code",
   "execution_count": 7,
   "id": "baking-artwork",
   "metadata": {},
   "outputs": [
    {
     "output_type": "execute_result",
     "data": {
      "text/plain": [
       "'39449'"
      ]
     },
     "metadata": {},
     "execution_count": 7
    }
   ],
   "source": [
    "\n",
    "str(data.loc[genomeFile]['taxon_id'])"
   ]
  },
  {
   "cell_type": "code",
   "execution_count": null,
   "id": "ancient-rendering",
   "metadata": {},
   "outputs": [],
   "source": [
    "with gzip.open('../data/genomes/GCA_001652855.1_Pro_Min_D-127.v1.0_genomic.fna.gz', \"rt\") as handle:\n",
    "    records = SeqIO.parse(handle, \"fasta\"):"
   ]
  },
  {
   "cell_type": "code",
   "execution_count": null,
   "id": "weird-bottom",
   "metadata": {},
   "outputs": [],
   "source": [
    "with gzip.open(original_file, 'rt') as original, open(appended_file, 'w') as appended:\n",
    "    records = SeqIO.parse(original_file, 'fasta')"
   ]
  },
  {
   "cell_type": "code",
   "execution_count": 51,
   "id": "medical-ministry",
   "metadata": {},
   "outputs": [],
   "source": [
    "original_file = '../data/genomes/' + genomeFile\n",
    "taxId = str(data.loc[genomeFile]['taxon_id'])\n",
    "\n",
    "appended_file = '../data/taxIdAppendedGenomes/' + 'taxIdAppended_' + genomeFile\n",
    "\n",
    "count = 0\n",
    "\n",
    "with gzip.open(original_file, 'rt') as original, gzip.open(appended_file, 'wt') as appended:\n",
    "    records = SeqIO.parse(original, 'fasta')\n",
    "    \n",
    "    prefix = '|kraken:taxid|' + taxId\n",
    "    \n",
    "    for record in records:          \n",
    "        record.id = record.id + prefix\n",
    "        SeqIO.write(record, appended, 'fasta')\n",
    "        count += 1\n",
    "    \n"
   ]
  },
  {
   "cell_type": "code",
   "execution_count": null,
   "id": "proof-relaxation",
   "metadata": {},
   "outputs": [],
   "source": []
  }
 ],
 "metadata": {
  "kernelspec": {
   "name": "python385jvsc74a57bd02d3a06a62f97e77c5e50203df821ceb45864068fde408738cea1e518df0d2a04",
   "display_name": "Python 3.8.5 64-bit ('base': conda)"
  },
  "language_info": {
   "codemirror_mode": {
    "name": "ipython",
    "version": 3
   },
   "file_extension": ".py",
   "mimetype": "text/x-python",
   "name": "python",
   "nbconvert_exporter": "python",
   "pygments_lexer": "ipython3",
   "version": "3.8.5"
  }
 },
 "nbformat": 4,
 "nbformat_minor": 5
}